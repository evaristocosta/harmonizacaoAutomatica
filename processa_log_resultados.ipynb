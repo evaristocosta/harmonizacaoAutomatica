{
 "cells": [
  {
   "cell_type": "code",
   "execution_count": 16,
   "metadata": {},
   "outputs": [],
   "source": [
    "import sys\n",
    "\n",
    "sys.path.insert(1, \"/home/lucas/harmonizacaoAutomatica/src/\")"
   ]
  },
  {
   "cell_type": "code",
   "execution_count": 1,
   "metadata": {},
   "outputs": [
    {
     "data": {
      "text/plain": [
       "['src/system/results/lstm_1671757520/modelos/28.h5',\n",
       " 'src/system/results/lstm_1671757520/modelos/22.h5',\n",
       " 'src/system/results/lstm_1671757520/modelos/9.h5',\n",
       " 'src/system/results/lstm_1671757520/modelos/29.h5',\n",
       " 'src/system/results/lstm_1671757520/modelos/12.h5',\n",
       " 'src/system/results/lstm_1671757520/modelos/8.h5',\n",
       " 'src/system/results/lstm_1671757520/modelos/2.h5',\n",
       " 'src/system/results/lstm_1671757520/modelos/11.h5',\n",
       " 'src/system/results/lstm_1671757520/modelos/17.h5',\n",
       " 'src/system/results/lstm_1671757520/modelos/23.h5']"
      ]
     },
     "execution_count": 1,
     "metadata": {},
     "output_type": "execute_result"
    }
   ],
   "source": [
    "import os\n",
    "import glob\n",
    "import csv\n",
    "import numpy as np\n",
    "from keras.models import load_model\n",
    "from src.system.load_data import carrega_arquivo\n",
    "from src.analysis.performance_measures import (\n",
    "    calc_accuracy,\n",
    "    calc_log_loss,\n",
    ")\n",
    "\n",
    "main = \"src/system/results/lstm_1671757520/\"\n",
    "caminho = main + \"modelos/*.h5\"\n",
    "\n",
    "_, _, _, _, X_test, Y_test = carrega_arquivo()\n",
    "X_test = np.reshape(X_test, (X_test.shape[0], 1, X_test.shape[1]))\n",
    "\n",
    "arquivos_h5 = glob.glob(caminho)\n",
    "arquivos_h5[0:10]"
   ]
  },
  {
   "cell_type": "code",
   "execution_count": 3,
   "metadata": {},
   "outputs": [
    {
     "name": "stdout",
     "output_type": "stream",
     "text": [
      "WARNING:tensorflow:Layer lstm will not use cuDNN kernels since it doesn't meet the criteria. It will use a generic GPU kernel as fallback when running on GPU.\n",
      "114/114 [==============================] - 0s 1ms/step\n",
      "WARNING:tensorflow:Layer lstm will not use cuDNN kernels since it doesn't meet the criteria. It will use a generic GPU kernel as fallback when running on GPU.\n",
      "114/114 [==============================] - 0s 1ms/step\n",
      "WARNING:tensorflow:Layer lstm will not use cuDNN kernels since it doesn't meet the criteria. It will use a generic GPU kernel as fallback when running on GPU.\n",
      "114/114 [==============================] - 0s 1ms/step\n",
      "WARNING:tensorflow:Layer lstm will not use cuDNN kernels since it doesn't meet the criteria. It will use a generic GPU kernel as fallback when running on GPU.\n",
      "114/114 [==============================] - 0s 1ms/step\n",
      "WARNING:tensorflow:Layer lstm will not use cuDNN kernels since it doesn't meet the criteria. It will use a generic GPU kernel as fallback when running on GPU.\n",
      "114/114 [==============================] - 0s 1ms/step\n",
      "WARNING:tensorflow:Layer lstm will not use cuDNN kernels since it doesn't meet the criteria. It will use a generic GPU kernel as fallback when running on GPU.\n",
      "114/114 [==============================] - 0s 1ms/step\n",
      "WARNING:tensorflow:Layer lstm will not use cuDNN kernels since it doesn't meet the criteria. It will use a generic GPU kernel as fallback when running on GPU.\n",
      "114/114 [==============================] - 0s 1ms/step\n",
      "WARNING:tensorflow:Layer lstm will not use cuDNN kernels since it doesn't meet the criteria. It will use a generic GPU kernel as fallback when running on GPU.\n",
      "114/114 [==============================] - 0s 964us/step\n",
      "WARNING:tensorflow:Layer lstm will not use cuDNN kernels since it doesn't meet the criteria. It will use a generic GPU kernel as fallback when running on GPU.\n",
      "114/114 [==============================] - 0s 1ms/step\n",
      "WARNING:tensorflow:Layer lstm will not use cuDNN kernels since it doesn't meet the criteria. It will use a generic GPU kernel as fallback when running on GPU.\n",
      "114/114 [==============================] - 0s 1ms/step\n",
      "WARNING:tensorflow:Layer lstm will not use cuDNN kernels since it doesn't meet the criteria. It will use a generic GPU kernel as fallback when running on GPU.\n",
      "114/114 [==============================] - 0s 1ms/step\n",
      "WARNING:tensorflow:Layer lstm will not use cuDNN kernels since it doesn't meet the criteria. It will use a generic GPU kernel as fallback when running on GPU.\n",
      "114/114 [==============================] - 0s 1ms/step\n",
      "WARNING:tensorflow:Layer lstm will not use cuDNN kernels since it doesn't meet the criteria. It will use a generic GPU kernel as fallback when running on GPU.\n",
      "114/114 [==============================] - 0s 1ms/step\n",
      "WARNING:tensorflow:Layer lstm will not use cuDNN kernels since it doesn't meet the criteria. It will use a generic GPU kernel as fallback when running on GPU.\n",
      "114/114 [==============================] - 0s 1ms/step\n",
      "WARNING:tensorflow:Layer lstm will not use cuDNN kernels since it doesn't meet the criteria. It will use a generic GPU kernel as fallback when running on GPU.\n",
      "114/114 [==============================] - 0s 1ms/step\n",
      "WARNING:tensorflow:Layer lstm will not use cuDNN kernels since it doesn't meet the criteria. It will use a generic GPU kernel as fallback when running on GPU.\n",
      "114/114 [==============================] - 0s 1ms/step\n",
      "WARNING:tensorflow:Layer lstm will not use cuDNN kernels since it doesn't meet the criteria. It will use a generic GPU kernel as fallback when running on GPU.\n",
      "114/114 [==============================] - 0s 1ms/step\n",
      "WARNING:tensorflow:Layer lstm will not use cuDNN kernels since it doesn't meet the criteria. It will use a generic GPU kernel as fallback when running on GPU.\n",
      "114/114 [==============================] - 0s 1ms/step\n",
      "WARNING:tensorflow:Layer lstm will not use cuDNN kernels since it doesn't meet the criteria. It will use a generic GPU kernel as fallback when running on GPU.\n",
      "114/114 [==============================] - 0s 1ms/step\n",
      "WARNING:tensorflow:Layer lstm will not use cuDNN kernels since it doesn't meet the criteria. It will use a generic GPU kernel as fallback when running on GPU.\n",
      "114/114 [==============================] - 0s 1ms/step\n",
      "WARNING:tensorflow:Layer lstm will not use cuDNN kernels since it doesn't meet the criteria. It will use a generic GPU kernel as fallback when running on GPU.\n",
      "114/114 [==============================] - 0s 1ms/step\n",
      "WARNING:tensorflow:Layer lstm will not use cuDNN kernels since it doesn't meet the criteria. It will use a generic GPU kernel as fallback when running on GPU.\n",
      "114/114 [==============================] - 0s 1ms/step\n",
      "WARNING:tensorflow:Layer lstm will not use cuDNN kernels since it doesn't meet the criteria. It will use a generic GPU kernel as fallback when running on GPU.\n",
      "114/114 [==============================] - 0s 1ms/step\n",
      "WARNING:tensorflow:Layer lstm will not use cuDNN kernels since it doesn't meet the criteria. It will use a generic GPU kernel as fallback when running on GPU.\n",
      "114/114 [==============================] - 0s 1ms/step\n",
      "WARNING:tensorflow:Layer lstm will not use cuDNN kernels since it doesn't meet the criteria. It will use a generic GPU kernel as fallback when running on GPU.\n",
      "114/114 [==============================] - 0s 1ms/step\n",
      "WARNING:tensorflow:Layer lstm will not use cuDNN kernels since it doesn't meet the criteria. It will use a generic GPU kernel as fallback when running on GPU.\n",
      "114/114 [==============================] - 0s 1ms/step\n",
      "WARNING:tensorflow:Layer lstm will not use cuDNN kernels since it doesn't meet the criteria. It will use a generic GPU kernel as fallback when running on GPU.\n",
      "114/114 [==============================] - 0s 1ms/step\n",
      "WARNING:tensorflow:Layer lstm will not use cuDNN kernels since it doesn't meet the criteria. It will use a generic GPU kernel as fallback when running on GPU.\n",
      "114/114 [==============================] - 0s 1ms/step\n",
      "WARNING:tensorflow:Layer lstm will not use cuDNN kernels since it doesn't meet the criteria. It will use a generic GPU kernel as fallback when running on GPU.\n",
      "114/114 [==============================] - 0s 1ms/step\n",
      "WARNING:tensorflow:Layer lstm will not use cuDNN kernels since it doesn't meet the criteria. It will use a generic GPU kernel as fallback when running on GPU.\n",
      "114/114 [==============================] - 0s 1ms/step\n"
     ]
    }
   ],
   "source": [
    "for rodada, arquivo in enumerate(arquivos_h5):\n",
    "    if os.path.isfile(main + \"output/predicao_por_fold.npy\"):\n",
    "        predicao_por_fold = np.load(main + \"output/predicao_por_fold.npy\")\n",
    "        real_por_fold = np.load(main + \"output/real_por_fold.npy\")\n",
    "    else:\n",
    "        predicao_por_fold = []\n",
    "        real_por_fold = []\n",
    "\n",
    "\n",
    "    modelo = load_model(arquivo)\n",
    "    predicao = modelo.predict(X_test)\n",
    "\n",
    "    loss = calc_log_loss(Y_test, np.nan_to_num(predicao))\n",
    "    acc = calc_accuracy(Y_test, np.nan_to_num(predicao))\n",
    "\n",
    "    log = open(main + \"log_resultados.csv\", \"a\")\n",
    "    log.write(f\"\\n{rodada+1},{loss},{acc}\")\n",
    "    log.close()\n",
    "\n",
    "    if len(predicao_por_fold) == 0:\n",
    "        predicao_por_fold.append(np.array(predicao))\n",
    "        real_por_fold.append(np.array(Y_test))\n",
    "    else:\n",
    "        predicao_por_fold = np.append(predicao_por_fold, [np.array(predicao)], axis=0)\n",
    "        real_por_fold = np.append(real_por_fold, [np.array(Y_test)], axis=0)\n",
    "\n",
    "    np.save(main + \"output/predicao_por_fold.npy\", predicao_por_fold)\n",
    "    np.save(main + \"output/real_por_fold.npy\", real_por_fold)"
   ]
  }
 ],
 "metadata": {
  "kernelspec": {
   "display_name": "harmonizacaoAutomatica",
   "language": "python",
   "name": "python3"
  },
  "language_info": {
   "codemirror_mode": {
    "name": "ipython",
    "version": 3
   },
   "file_extension": ".py",
   "mimetype": "text/x-python",
   "name": "python",
   "nbconvert_exporter": "python",
   "pygments_lexer": "ipython3",
   "version": "3.8.10 (default, Nov 14 2022, 12:59:47) \n[GCC 9.4.0]"
  },
  "orig_nbformat": 4,
  "vscode": {
   "interpreter": {
    "hash": "7c4049fafe89dd3563583666b0332ec4d349f687da957d8f402b913cb0cd292a"
   }
  }
 },
 "nbformat": 4,
 "nbformat_minor": 2
}
